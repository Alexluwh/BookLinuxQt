{
 "cells": [
  {
   "cell_type": "markdown",
   "metadata": {},
   "source": [
    "# 项目：实时时钟显示\n",
    "\n",
    "用Qt制作一个能显示时间的应用程序"
   ]
  },
  {
   "cell_type": "markdown",
   "metadata": {},
   "source": [
    "# Step0. [pytb安装]\n",
    "\n",
    "如果已安装，请直接跳过，否则命令行输入如下命令：  \n",
    "```conda install pytb```"
   ]
  },
  {
   "cell_type": "markdown",
   "metadata": {},
   "source": [
    "# Step1. 创建主窗口"
   ]
  },
  {
   "cell_type": "code",
   "execution_count": 1,
   "metadata": {},
   "outputs": [],
   "source": [
    "# !/usr/bin/python3\n",
    "# -*- coding: utf-8 -*-\n",
    "\n",
    "import sys\n",
    "from PyQt5.QtWidgets import QApplication, QWidget"
   ]
  },
  {
   "cell_type": "markdown",
   "metadata": {},
   "source": [
    "import导入sys、QApplication、QWidget模块。等价于C语言中的`#include`. "
   ]
  },
  {
   "cell_type": "code",
   "execution_count": 2,
   "metadata": {},
   "outputs": [],
   "source": [
    "app = QApplication(sys.argv)"
   ]
  },
  {
   "cell_type": "markdown",
   "metadata": {},
   "source": [
    "调用函数QApplication用于创建一个Qt应用程序"
   ]
  },
  {
   "cell_type": "code",
   "execution_count": 3,
   "metadata": {},
   "outputs": [],
   "source": [
    "w = QWidget()\n",
    "w.show()"
   ]
  },
  {
   "cell_type": "markdown",
   "metadata": {},
   "source": [
    "使用QWidget创建一个窗体w，并通过w.show方法把窗体显示出来"
   ]
  },
  {
   "cell_type": "code",
   "execution_count": 4,
   "metadata": {},
   "outputs": [
    {
     "data": {
      "text/plain": [
       "0"
      ]
     },
     "execution_count": 4,
     "metadata": {},
     "output_type": "execute_result"
    }
   ],
   "source": [
    "app.exec_()"
   ]
  },
  {
   "cell_type": "markdown",
   "metadata": {},
   "source": [
    "exec()函数有一个消息循环，在调用之后，程序就被锁定。等待窗口的关闭"
   ]
  },
  {
   "cell_type": "markdown",
   "metadata": {},
   "source": [
    "## 修改窗口名称"
   ]
  },
  {
   "cell_type": "code",
   "execution_count": null,
   "metadata": {},
   "outputs": [],
   "source": [
    "import sys\n",
    "from PyQt5.QtWidgets import QApplication, QWidget\n",
    "app = QApplication(sys.argv)\n",
    "w = QWidget()\n",
    "w.show()"
   ]
  },
  {
   "cell_type": "code",
   "execution_count": null,
   "metadata": {},
   "outputs": [],
   "source": [
    "w.setWindowTitle(\"Hello\")"
   ]
  },
  {
   "cell_type": "markdown",
   "metadata": {},
   "source": [
    "修改QWidget对象w的WindowTitle属性为“Hello”"
   ]
  },
  {
   "cell_type": "code",
   "execution_count": null,
   "metadata": {},
   "outputs": [],
   "source": [
    "app.exec_()"
   ]
  },
  {
   "cell_type": "markdown",
   "metadata": {},
   "source": [
    "## C++版本\n",
    "```\n",
    "// main.cpp\n",
    "#include <QApplication>\n",
    "#include <QWidget>\n",
    "\n",
    "int main(int argc, char *argv[])\n",
    "{\n",
    "    QApplication app(argc, argv);\n",
    "    \n",
    "    //创建主窗口\n",
    "    QWidget w;\n",
    "    //修改主窗口名称为\"Hello\"\n",
    "    w.setWindowsTitle(\"Hello\");\n",
    "    //显示主窗口\n",
    "    w.show();\n",
    "    \n",
    "    return app.exec(); // 程序锁定，等待关闭\n",
    "}\n",
    "```\n",
    "```\n",
    "# test.pro\n",
    "QT       += core gui widgets\n",
    "\n",
    "SOURCES += \\\n",
    "        main.cpp\n",
    "```"
   ]
  },
  {
   "cell_type": "markdown",
   "metadata": {},
   "source": [
    "# Step2. 窗体上显示文字-标签使用"
   ]
  },
  {
   "cell_type": "code",
   "execution_count": null,
   "metadata": {},
   "outputs": [],
   "source": [
    "# !/usr/bin/python3\n",
    "# -*- coding: utf-8 -*-\n",
    "\n",
    "import sys\n",
    "from PyQt5.QtWidgets import QApplication, QWidget\n",
    "from PyQt5.QtCore import QCoreApplication\n",
    "from PyQt5.QtWidgets import QLabel\n",
    "\n",
    "def main():\n",
    "    QApplication app(argc, argv);\n",
    "        \n",
    "    w = QWidget()\n",
    "    w.show()\n",
    "    \n",
    "    text = QLabel()\n",
    "    text.setText(\"Hello World\")\n",
    "    text.show()\n",
    "    \n",
    "    app.exec()  # 锁定程序，等待退出\n",
    "    \n",
    "if __name__ == '__main__':\n",
    "    main()"
   ]
  },
  {
   "cell_type": "markdown",
   "metadata": {},
   "source": [
    "* 用`def main():`将多行命令代码封装为函数。\n",
    "* 导入QLabel模块并创建对象。  \n",
    "* 执行后会发现输出为2个窗口，一个为Hello World,一个为Python。如何让文本显示在主窗体上呢"
   ]
  },
  {
   "cell_type": "markdown",
   "metadata": {},
   "source": [
    "其实QLabel与QWidget是有继承关系的，QLable继承自QFrame，QFrame又继承自QWidget。QWidget是主窗口，如果想让QLabel显示在QWidget创建的主窗口中，就需要将Qlabel对象text的父对象设为w。\n",
    "```\n",
    "text = QLabel()\n",
    "text.setText(\"Hello World\")\n",
    "text.show()\n",
    "text.setParent(w)\n",
    "```"
   ]
  },
  {
   "cell_type": "markdown",
   "metadata": {},
   "source": [
    "## C++版本"
   ]
  },
  {
   "cell_type": "markdown",
   "metadata": {},
   "source": [
    "```\n",
    "#include <QLabel>\n",
    "\n",
    "...\n",
    "\n",
    "QWidget w;\n",
    "w.show();\n",
    "\n",
    "text = QLabel() //创建标签\n",
    "text.setText(\"Hello World\") //修改标签文本属性\n",
    "text.show() //标签显示\n",
    "```\n",
    "\n",
    "使用text对象的setParent方法绑定父对象\n",
    "\n",
    "`text.setParent(&w)`C++中需要使用指针作为函数的入口参数"
   ]
  },
  {
   "cell_type": "markdown",
   "metadata": {},
   "source": [
    "## 小任务\n",
    "修改代码使`Hello world`显示在主窗口中"
   ]
  },
  {
   "cell_type": "markdown",
   "metadata": {},
   "source": [
    "# Step3. 函数封装"
   ]
  },
  {
   "cell_type": "code",
   "execution_count": 2,
   "metadata": {},
   "outputs": [],
   "source": [
    "# !/usr/bin/python3\n",
    "# -*- coding: utf-8 -*-\n",
    "\n",
    "import sys\n",
    "from PyQt5.QtWidgets import QApplication, QWidget, QLabel\n",
    "from PyQt5.QtCore import QCoreApplication\n",
    "\n",
    "def app_init():\n",
    "    app = QCoreApplication.instance()\n",
    "    if app is None:\n",
    "        app = QApplication(sys.argv)\n",
    "    return app\n",
    "\n",
    "def app_exit(app):\n",
    "    app.exec()\n",
    "    \n",
    "def win_init():\n",
    "    w = QWidget()\n",
    "    w.setWindowTitle(\"Hello\")\n",
    "    w.show()\n",
    "    return w\n",
    "\n",
    "def text_init(w):\n",
    "    text = QLabel()\n",
    "    text.setText(\"Hello World\")\n",
    "    text.setParent(w)\n",
    "    text.show()\n",
    "\n",
    "def main():\n",
    "    app = app_init()\n",
    "    w = win_init()\n",
    "    text_init(w)\n",
    "    app_exit(app)\n",
    "    \n",
    "if __name__ == '__main__':\n",
    "    main()"
   ]
  },
  {
   "cell_type": "markdown",
   "metadata": {},
   "source": [
    "使用def关键字完成函数的封装。并根据功能不通拆分为多个子函数"
   ]
  },
  {
   "cell_type": "markdown",
   "metadata": {},
   "source": [
    "# Step4. 显示时间-类的使用"
   ]
  },
  {
   "cell_type": "code",
   "execution_count": 1,
   "metadata": {},
   "outputs": [],
   "source": [
    "# !/usr/bin/python3\n",
    "# -*- coding: utf-8 -*-\n",
    "\n",
    "import sys\n",
    "# from PyQt5.QtWidgets import QApplication, QWidget, QLabel, QDialog\n",
    "# from PyQt5.QtCore import QCoreApplication, QTimer, QDateTime\n",
    "\n",
    "### 导入所有模块\n",
    "from PyQt5 import QtGui, QtCore, QtWidgets\n",
    "from PyQt5.QtWidgets import *\n",
    "from PyQt5.QtCore import *\n",
    "from PyQt5.QtGui import *"
   ]
  },
  {
   "cell_type": "code",
   "execution_count": 2,
   "metadata": {},
   "outputs": [],
   "source": [
    "class showTime(QDialog):\n",
    "    def __init__(self):\n",
    "        super(showTime, self).__init__()\n",
    "        self.resize(500, 400)\n",
    "        self.setWindowTitle(\"Rtc Time\")\n",
    "        self.label = QLabel(self)\n",
    "        self.label.setFixedWidth(300)\n",
    "        self.label.move(100, 80)\n",
    "        self.label.setStyleSheet(\"QLabel{background:white;}\" \\\n",
    "                                 \"QLabel{color:rgb(300,300,300,120);\"\\\n",
    "                                 \"font-size:15px;font-weight:bold;font-family:宋体;}\" \\\n",
    "                                 )\n",
    "        # 动态显示时间在label上\n",
    "        timer = QTimer(self)\n",
    "        timer.timeout.connect(self.showtime)\n",
    "        timer.start()\n",
    "        \n",
    "    def showtime(self):\n",
    "        datetime = QDateTime.currentDateTime()\n",
    "        text = datetime.toString()\n",
    "        self.label.setText(5*\" \" + text)\n"
   ]
  },
  {
   "cell_type": "markdown",
   "metadata": {},
   "source": [
    "* `class showTime(QDialog):` 定义了showTime类，此类继承自类QDialog。  \n",
    "* `def __init__(self):` 定义了函数`__init__`，此函数在执行类的定义时自动被执行\n",
    "    * `super` 函数用于调用父类（超类）的一个方法/函数，super是用于解决多重继承问题的。此处的操作等价与调用了QDialog的__init__方法，等于创建了1个QDialog窗口\n",
    "    * `self.resize`和`self.setWindowTitle`分别用于修改QDialog窗口的大小和title。\n",
    "    * `self.label = QLabel(self)`此代码定义了一个label并且此label的父类为self即之前定义的QDialog窗口\n",
    "    * `setFixedWidth`、`move`、`setStyleSheet`三个函数用于修改label的尺寸、位置、显示风格属性\n",
    "    * `QTimer`类提供了定时器，用于定时循环执行特定函数，定时器默认每秒中断循环一次，定时器溢出时调用函数showtime，此函数通过定时器的timeout的connect方法完成配置`timer.timeout.connect(self.showtime)`, `timer.start()`启动定时器。此处实际上使用的是信号与槽机制，后续将专门讲解\n",
    "* `def show time(self):`此函数被定时调用\n",
    "    * `QDateTime`类提供了`currentDateTime`方法可获取系统当前时间。\n",
    "    * `datetime.toString()`将日期对象转变为字符串\n",
    "    * `self.label.setText`用于修改label的Text属性，实现更新时间的目的\n"
   ]
  },
  {
   "cell_type": "code",
   "execution_count": 3,
   "metadata": {},
   "outputs": [],
   "source": [
    "if __name__ == '__main__':\n",
    "    app = QApplication(sys.argv)\n",
    "    my = showTime()\n",
    "    my.show()\n",
    "    app.exec_()"
   ]
  },
  {
   "cell_type": "markdown",
   "metadata": {},
   "source": [
    "## C++版本\n",
    "\n",
    "```C++\n",
    "\n",
    "```\n",
    "\n"
   ]
  }
 ],
 "metadata": {
  "kernelspec": {
   "display_name": "Python [conda env:root] *",
   "language": "python",
   "name": "conda-root-py"
  },
  "language_info": {
   "codemirror_mode": {
    "name": "ipython",
    "version": 3
   },
   "file_extension": ".py",
   "mimetype": "text/x-python",
   "name": "python",
   "nbconvert_exporter": "python",
   "pygments_lexer": "ipython3",
   "version": "3.7.0"
  },
  "toc": {
   "base_numbering": 1,
   "nav_menu": {},
   "number_sections": true,
   "sideBar": true,
   "skip_h1_title": false,
   "title_cell": "Table of Contents",
   "title_sidebar": "Contents",
   "toc_cell": false,
   "toc_position": {
    "height": "calc(100% - 180px)",
    "left": "10px",
    "top": "150px",
    "width": "169.92px"
   },
   "toc_section_display": true,
   "toc_window_display": true
  }
 },
 "nbformat": 4,
 "nbformat_minor": 2
}
